{
  "nbformat": 4,
  "nbformat_minor": 5,
  "metadata": {
    "kernel_info": {
      "name": "python3"
    },
    "noteable": {
      "last_transaction_id": "7ca2dd26-6a50-4f66-9052-2efe43aa53cb",
      "db_connection": "@1ebe1173557a4b09aa1abedea5f8fc79"
    },
    "kernelspec": {
      "display_name": "Python 3.9",
      "language": "python",
      "name": "python3"
    },
    "selected_hardware_size": "small"
  },
  "cells": [
    {
      "id": "04064cf3",
      "cell_type": "code",
      "metadata": {
        "noteable": {
          "assign_results_to": "sql_df_1",
          "cell_type": "sql",
          "db_connection": "@1ebe1173557a4b09aa1abedea5f8fc79",
          "output_collection_id": "7444c498-b9c3-48ce-a9c3-d0aacee9cf3b"
        },
        "ExecuteTime": {
          "end_time": "2023-08-06T15:46:53.524328+00:00",
          "start_time": "2023-08-06T15:46:50.714917+00:00"
        },
        "datalink": {
          "d4676363-eea3-40fa-99bf-16583f23d6ea": {
            "applied_filters": [],
            "dataframe_info": {
              "default_index_used": true,
              "orig_num_cols": 1,
              "orig_num_rows": 5008,
              "orig_size_bytes": 80128,
              "truncated_num_cols": 1,
              "truncated_num_rows": 5008,
              "truncated_size_bytes": 80128,
              "truncated_string_columns": []
            },
            "display_id": "d4676363-eea3-40fa-99bf-16583f23d6ea",
            "dx_settings": {
              "ALLOW_NOTEABLE_ATTRS": true,
              "COLUMN_SAMPLING_METHOD": "outer",
              "DB_LOCATION": ":memory:",
              "DEV_MODE": false,
              "DISPLAY_MAX_COLUMNS": 100,
              "DISPLAY_MAX_ROWS": 50000,
              "DISPLAY_MODE": "simple",
              "ENABLE_ASSIGNMENT": true,
              "ENABLE_DATALINK": true,
              "FLATTEN_COLUMN_VALUES": true,
              "FLATTEN_INDEX_VALUES": false,
              "GENERATE_DEX_METADATA": false,
              "HTML_TABLE_SCHEMA": false,
              "LOG_LEVEL": 30,
              "MAX_RENDER_SIZE_BYTES": 104857600,
              "MAX_STRING_LENGTH": 250,
              "NUM_PAST_SAMPLES_TRACKED": 3,
              "RANDOM_STATE": 12648430,
              "RESET_INDEX_VALUES": false,
              "ROW_SAMPLING_METHOD": "random",
              "SAMPLING_FACTOR": 0.1,
              "SAMPLING_METHOD": "random",
              "STRINGIFY_COLUMN_VALUES": true,
              "STRINGIFY_INDEX_VALUES": false
            },
            "sample_history": [],
            "sampling_time": "2023-08-06T15:46:53.360612",
            "user_variable_name": "sql_df_1",
            "variable_name": "sql_df_1"
          }
        }
      },
      "execution_count": null,
      "source": "select id from cod;",
      "outputs": []
    },
    {
      "id": "c80e89df-282e-4b66-a17c-4e5bfe7bbf61",
      "cell_type": "code",
      "metadata": {
        "jupyter": {
          "outputs_hidden": false,
          "source_hidden": false
        },
        "noteable": {
          "cell_type": "code"
        }
      },
      "execution_count": null,
      "source": "",
      "outputs": []
    },
    {
      "id": "080436ce-6202-484d-b7c3-e9ac3a083869",
      "cell_type": "code",
      "metadata": {
        "noteable": {
          "assign_results_to": "sql_df_wtxx",
          "cell_type": "sql",
          "db_connection": "@1ebe1173557a4b09aa1abedea5f8fc79",
          "output_collection_id": "a9b38e9a-1657-4633-9773-b4b5b449a412"
        },
        "ExecuteTime": {
          "end_time": "2023-08-10T08:42:03.367654+00:00",
          "start_time": "2023-08-10T08:42:02.959893+00:00"
        },
        "datalink": {
          "06e5585b-d9db-48ad-8b6c-b3aed1d7d9b5": {
            "applied_filters": [],
            "dataframe_info": {
              "default_index_used": true,
              "orig_num_cols": 2,
              "orig_num_rows": 3,
              "orig_size_bytes": 72,
              "truncated_num_cols": 2,
              "truncated_num_rows": 3,
              "truncated_size_bytes": 72,
              "truncated_string_columns": []
            },
            "display_id": "06e5585b-d9db-48ad-8b6c-b3aed1d7d9b5",
            "dx_settings": {
              "ALLOW_NOTEABLE_ATTRS": true,
              "COLUMN_SAMPLING_METHOD": "outer",
              "DB_LOCATION": ":memory:",
              "DEV_MODE": false,
              "DISPLAY_MAX_COLUMNS": 100,
              "DISPLAY_MAX_ROWS": 50000,
              "DISPLAY_MODE": "simple",
              "ENABLE_ASSIGNMENT": true,
              "ENABLE_DATALINK": true,
              "FLATTEN_COLUMN_VALUES": true,
              "FLATTEN_INDEX_VALUES": false,
              "GENERATE_DEX_METADATA": false,
              "HTML_TABLE_SCHEMA": false,
              "LOG_LEVEL": 30,
              "MAX_RENDER_SIZE_BYTES": 104857600,
              "MAX_STRING_LENGTH": 250,
              "NUM_PAST_SAMPLES_TRACKED": 3,
              "RANDOM_STATE": 12648430,
              "RESET_INDEX_VALUES": false,
              "ROW_SAMPLING_METHOD": "random",
              "SAMPLING_FACTOR": 0.1,
              "SAMPLING_METHOD": "random",
              "STRINGIFY_COLUMN_VALUES": true,
              "STRINGIFY_INDEX_VALUES": false
            },
            "sample_history": [],
            "sampling_time": "2023-08-10T08:42:03.210602",
            "user_variable_name": "sql_df_wtxx",
            "variable_name": "sql_df_wtxx"
          }
        }
      },
      "execution_count": null,
      "source": "SELECT DISTINCT role, COUNT(*) as count FROM cod GROUP BY role;",
      "outputs": []
    },
    {
      "id": "b04c9830-029b-4c2b-b41f-eacd0b19491b",
      "cell_type": "code",
      "metadata": {
        "noteable": {
          "assign_results_to": "sql_df_muga",
          "cell_type": "sql",
          "db_connection": "@1ebe1173557a4b09aa1abedea5f8fc79",
          "output_collection_id": "52a0966b-fa2b-4b3e-a0c6-224000deee42"
        },
        "ExecuteTime": {
          "end_time": "2023-08-10T08:45:02.065250+00:00",
          "start_time": "2023-08-10T08:45:01.779307+00:00"
        },
        "datalink": {
          "28adc66c-0490-4de7-936a-ff188ca2d571": {
            "applied_filters": [],
            "dataframe_info": {
              "default_index_used": true,
              "orig_num_cols": 3,
              "orig_num_rows": 8,
              "orig_size_bytes": 256,
              "truncated_num_cols": 3,
              "truncated_num_rows": 8,
              "truncated_size_bytes": 256,
              "truncated_string_columns": []
            },
            "display_id": "28adc66c-0490-4de7-936a-ff188ca2d571",
            "dx_settings": {
              "ALLOW_NOTEABLE_ATTRS": true,
              "COLUMN_SAMPLING_METHOD": "outer",
              "DB_LOCATION": ":memory:",
              "DEV_MODE": false,
              "DISPLAY_MAX_COLUMNS": 100,
              "DISPLAY_MAX_ROWS": 50000,
              "DISPLAY_MODE": "simple",
              "ENABLE_ASSIGNMENT": true,
              "ENABLE_DATALINK": true,
              "FLATTEN_COLUMN_VALUES": true,
              "FLATTEN_INDEX_VALUES": false,
              "GENERATE_DEX_METADATA": false,
              "HTML_TABLE_SCHEMA": false,
              "LOG_LEVEL": 30,
              "MAX_RENDER_SIZE_BYTES": 104857600,
              "MAX_STRING_LENGTH": 250,
              "NUM_PAST_SAMPLES_TRACKED": 3,
              "RANDOM_STATE": 12648430,
              "RESET_INDEX_VALUES": false,
              "ROW_SAMPLING_METHOD": "random",
              "SAMPLING_FACTOR": 0.1,
              "SAMPLING_METHOD": "random",
              "STRINGIFY_COLUMN_VALUES": true,
              "STRINGIFY_INDEX_VALUES": false
            },
            "sample_history": [],
            "sampling_time": "2023-08-10T08:45:01.908645",
            "user_variable_name": "sql_df_muga",
            "variable_name": "sql_df_muga"
          }
        }
      },
      "execution_count": null,
      "source": "SELECT role, gender, COUNT(*) as count FROM cod GROUP BY role, gender;",
      "outputs": []
    },
    {
      "id": "cd77a6b6-a0ee-4012-b1b5-18c994ac985f",
      "cell_type": "code",
      "metadata": {
        "noteable": {
          "assign_results_to": "cod_df",
          "cell_type": "sql",
          "db_connection": "@1ebe1173557a4b09aa1abedea5f8fc79",
          "output_collection_id": "ce01b35d-2be7-4846-9b48-23bc870f0133"
        },
        "ExecuteTime": {
          "end_time": "2023-08-10T08:46:29.901894+00:00",
          "start_time": "2023-08-10T08:46:28.666494+00:00"
        },
        "datalink": {
          "5e641041-d071-4371-8fcd-1a5842dc8327": {
            "applied_filters": [],
            "dataframe_info": {
              "default_index_used": true,
              "orig_num_cols": 11,
              "orig_num_rows": 5008,
              "orig_size_bytes": 480768,
              "truncated_num_cols": 11,
              "truncated_num_rows": 5008,
              "truncated_size_bytes": 480768,
              "truncated_string_columns": []
            },
            "display_id": "5e641041-d071-4371-8fcd-1a5842dc8327",
            "dx_settings": {
              "ALLOW_NOTEABLE_ATTRS": true,
              "COLUMN_SAMPLING_METHOD": "outer",
              "DB_LOCATION": ":memory:",
              "DEV_MODE": false,
              "DISPLAY_MAX_COLUMNS": 100,
              "DISPLAY_MAX_ROWS": 50000,
              "DISPLAY_MODE": "simple",
              "ENABLE_ASSIGNMENT": true,
              "ENABLE_DATALINK": true,
              "FLATTEN_COLUMN_VALUES": true,
              "FLATTEN_INDEX_VALUES": false,
              "GENERATE_DEX_METADATA": false,
              "HTML_TABLE_SCHEMA": false,
              "LOG_LEVEL": 30,
              "MAX_RENDER_SIZE_BYTES": 104857600,
              "MAX_STRING_LENGTH": 250,
              "NUM_PAST_SAMPLES_TRACKED": 3,
              "RANDOM_STATE": 12648430,
              "RESET_INDEX_VALUES": false,
              "ROW_SAMPLING_METHOD": "random",
              "SAMPLING_FACTOR": 0.1,
              "SAMPLING_METHOD": "random",
              "STRINGIFY_COLUMN_VALUES": true,
              "STRINGIFY_INDEX_VALUES": false
            },
            "sample_history": [],
            "sampling_time": "2023-08-10T08:46:29.714450",
            "user_variable_name": "cod_df",
            "variable_name": "cod_df"
          }
        }
      },
      "execution_count": null,
      "source": "SELECT * FROM cod;",
      "outputs": []
    },
    {
      "id": "eb14bb30-4a60-4955-b73e-7a899a6785d7",
      "cell_type": "code",
      "metadata": {
        "noteable": {
          "cell_type": "code",
          "output_collection_id": "047bbb3d-c715-4096-a4c2-ba11d4e21ed7"
        },
        "ExecuteTime": {
          "end_time": "2023-08-10T08:47:49.883571+00:00",
          "start_time": "2023-08-10T08:47:48.594067+00:00"
        }
      },
      "execution_count": null,
      "source": "import matplotlib.pyplot as plt\nimport seaborn as sns\n\n# Frequency plot of the gender variable\nplt.figure(figsize=(10, 6))\nsns.countplot(x='gender', data=cod_df)\nplt.title('Frequency Plot of Gender')\nplt.xlabel('Gender')\nplt.ylabel('Count')\nplt.show()",
      "outputs": []
    },
    {
      "id": "f5774d3d-edde-41ae-94bb-404cf3794d58",
      "cell_type": "code",
      "metadata": {
        "noteable": {
          "cell_type": "code",
          "output_collection_id": "5753e008-3ed8-4b94-a70e-75a12d7ee515"
        },
        "ExecuteTime": {
          "end_time": "2023-08-10T08:49:57.318737+00:00",
          "start_time": "2023-08-10T08:49:56.837214+00:00"
        }
      },
      "execution_count": null,
      "source": "# Frequency plot of the gender variable with labels\nplt.figure(figsize=(10, 6))\nax = sns.countplot(x='gender', data=cod_df)\nplt.title('Frequency Plot of Gender')\nplt.xlabel('Gender')\nplt.ylabel('Count')\n\n# Adding labels with the number of each value of gender\nfor p in ax.patches:\n    ax.annotate(f'{p.get_height()}', (p.get_x() + p.get_width() / 2., p.get_height()), ha='center', va='center', xytext=(0, 10), textcoords='offset points')\n\nplt.show()",
      "outputs": []
    },
    {
      "id": "6213117a-c757-4e42-a933-fa0468754869",
      "cell_type": "code",
      "metadata": {
        "noteable": {
          "cell_type": "code",
          "output_collection_id": "bef57064-62cc-4a79-8d0b-1f29f6b632fa"
        },
        "ExecuteTime": {
          "end_time": "2023-08-10T08:52:23.735994+00:00",
          "start_time": "2023-08-10T08:52:23.310374+00:00"
        }
      },
      "execution_count": null,
      "source": "import numpy as np\n\n# Create a new variable 'gender_binary' where gender value 3 is replaced with NA\ncod_df['gender_binary'] = cod_df['gender'].replace(3, np.nan)\n\n# Frequency plot of the 'gender_binary' variable with labels\nplt.figure(figsize=(10, 6))\nax = sns.countplot(x='gender_binary', data=cod_df)\nplt.title('Frequency Plot of Gender (Binary)')\nplt.xlabel('Gender (Binary)')\nplt.ylabel('Count')\n\n# Adding labels with the number of each value of gender_binary\nfor p in ax.patches:\n    ax.annotate(f'{p.get_height()}', (p.get_x() + p.get_width() / 2., p.get_height()), ha='center', va='center', xytext=(0, 10), textcoords='offset points')\n\nplt.show()",
      "outputs": []
    },
    {
      "id": "57e3a3bf-7098-40fd-a99b-56f351634e12",
      "cell_type": "code",
      "metadata": {
        "noteable": {
          "cell_type": "code",
          "output_collection_id": "4bfdbbec-60ee-4d68-aa5d-494a027372b4"
        },
        "ExecuteTime": {
          "end_time": "2023-08-10T08:54:20.804706+00:00",
          "start_time": "2023-08-10T08:54:20.595241+00:00"
        },
        "datalink": {
          "8d74bacd-4885-43ed-bfbc-ee110592178e": {
            "applied_filters": [],
            "dataframe_info": {
              "default_index_used": false,
              "orig_num_cols": 3,
              "orig_num_rows": 2,
              "orig_size_bytes": 64,
              "truncated_num_cols": 3,
              "truncated_num_rows": 2,
              "truncated_size_bytes": 64,
              "truncated_string_columns": []
            },
            "display_id": "8d74bacd-4885-43ed-bfbc-ee110592178e",
            "dx_settings": {
              "ALLOW_NOTEABLE_ATTRS": true,
              "COLUMN_SAMPLING_METHOD": "outer",
              "DB_LOCATION": ":memory:",
              "DEV_MODE": false,
              "DISPLAY_MAX_COLUMNS": 100,
              "DISPLAY_MAX_ROWS": 50000,
              "DISPLAY_MODE": "simple",
              "ENABLE_ASSIGNMENT": true,
              "ENABLE_DATALINK": true,
              "FLATTEN_COLUMN_VALUES": true,
              "FLATTEN_INDEX_VALUES": false,
              "GENERATE_DEX_METADATA": false,
              "HTML_TABLE_SCHEMA": false,
              "LOG_LEVEL": 30,
              "MAX_RENDER_SIZE_BYTES": 104857600,
              "MAX_STRING_LENGTH": 250,
              "NUM_PAST_SAMPLES_TRACKED": 3,
              "RANDOM_STATE": 12648430,
              "RESET_INDEX_VALUES": false,
              "ROW_SAMPLING_METHOD": "random",
              "SAMPLING_FACTOR": 0.1,
              "SAMPLING_METHOD": "random",
              "STRINGIFY_COLUMN_VALUES": true,
              "STRINGIFY_INDEX_VALUES": false
            },
            "sample_history": [],
            "sampling_time": "2023-08-10T08:54:20.648083",
            "user_variable_name": "cross_table",
            "variable_name": "cross_table"
          }
        }
      },
      "execution_count": null,
      "source": "# Create a cross table of 'gender_binary' and 'role' showing percentages of each combination\ncross_table = pd.crosstab(cod_df['gender_binary'], cod_df['role'], normalize='all') * 100\ncross_table",
      "outputs": []
    },
    {
      "id": "e0b59246-bb89-4983-875b-ae32203059dc",
      "cell_type": "code",
      "metadata": {
        "noteable": {
          "cell_type": "code",
          "output_collection_id": "1b82c587-a624-4cb2-83c5-ee92a133b8da"
        },
        "ExecuteTime": {
          "end_time": "2023-08-10T08:58:08.707694+00:00",
          "start_time": "2023-08-10T08:58:08.139369+00:00"
        }
      },
      "execution_count": null,
      "source": "# Visualization of the cross table\nplt.figure(figsize=(12, 8))\nsns.heatmap(cross_table, annot=True, cmap='Blues', fmt='.2f', cbar_kws={'label': 'Percentage (%)'})\nplt.title('Percentage Distribution of Gender (Binary) and Role')\nplt.xlabel('Role')\nplt.ylabel('Gender (Binary)')\nplt.show()",
      "outputs": []
    },
    {
      "id": "b0ec3ed8-0a78-481a-989b-a1164e223226",
      "cell_type": "markdown",
      "source": "### Summary of Gender (Binary) and Role Distribution\n\nThe heatmap visualization provides insights into the distribution of gender (binary) across different job roles:\n\n- **Communicator (Role 1)**: Gender 1 has a representation of approximately 12.50%, while Gender 2 has a representation of about 9.88%.\n- **Coworker (Role 2)**: Gender 1 dominates with a representation of 45.60%, whereas Gender 2 has a representation of 23.90%.\n- **Manager (Role 3)**: Gender 1 has a representation of 5.87%, and Gender 2 has a representation of 2.24%.\n\nFrom the data, it's evident that Gender 1 has a higher representation in the Coworker role, while both genders have relatively lower representation in the Manager role.",
      "metadata": {
        "noteable": {
          "cell_type": "markdown"
        }
      }
    },
    {
      "id": "9e7dc415-665d-48b0-9e08-5001087039c6",
      "cell_type": "code",
      "metadata": {
        "noteable": {
          "cell_type": "python",
          "output_collection_id": "d9a136a8-cf22-43bf-9687-f3418bfd93c1"
        },
        "ExecuteTime": {
          "end_time": "2023-08-10T09:13:47.786169+00:00",
          "start_time": "2023-08-10T09:13:47.571097+00:00"
        }
      },
      "execution_count": null,
      "source": "# SQL code to select all data from the table\nsql_query = \"SELECT * FROM cod;\"\n\n# Execute the SQL query and store the result in a pandas DataFrame\ndf = pd.read_sql_query(sql_query)",
      "outputs": []
    },
    {
      "id": "c6425d32-118a-4d73-8f71-4940bea00f4e",
      "cell_type": "code",
      "metadata": {
        "noteable": {
          "assign_results_to": "df_sql",
          "cell_type": "sql",
          "db_connection": "@1ebe1173557a4b09aa1abedea5f8fc79",
          "output_collection_id": "fa7f5c3f-ce16-4ad9-b56d-194cafd679ef"
        },
        "ExecuteTime": {
          "end_time": "2023-08-10T09:19:25.460859+00:00",
          "start_time": "2023-08-10T09:19:22.437855+00:00"
        },
        "datalink": {
          "21694fb6-2460-4dd5-9589-1f0b5c513cfe": {
            "applied_filters": [],
            "dataframe_info": {
              "default_index_used": true,
              "orig_num_cols": 11,
              "orig_num_rows": 5008,
              "orig_size_bytes": 480768,
              "truncated_num_cols": 11,
              "truncated_num_rows": 5008,
              "truncated_size_bytes": 480768,
              "truncated_string_columns": []
            },
            "display_id": "21694fb6-2460-4dd5-9589-1f0b5c513cfe",
            "dx_settings": {
              "ALLOW_NOTEABLE_ATTRS": true,
              "COLUMN_SAMPLING_METHOD": "outer",
              "DB_LOCATION": ":memory:",
              "DEV_MODE": false,
              "DISPLAY_MAX_COLUMNS": 100,
              "DISPLAY_MAX_ROWS": 50000,
              "DISPLAY_MODE": "simple",
              "ENABLE_ASSIGNMENT": true,
              "ENABLE_DATALINK": true,
              "FLATTEN_COLUMN_VALUES": true,
              "FLATTEN_INDEX_VALUES": false,
              "GENERATE_DEX_METADATA": false,
              "HTML_TABLE_SCHEMA": false,
              "LOG_LEVEL": 30,
              "MAX_RENDER_SIZE_BYTES": 104857600,
              "MAX_STRING_LENGTH": 250,
              "NUM_PAST_SAMPLES_TRACKED": 3,
              "RANDOM_STATE": 12648430,
              "RESET_INDEX_VALUES": false,
              "ROW_SAMPLING_METHOD": "random",
              "SAMPLING_FACTOR": 0.1,
              "SAMPLING_METHOD": "random",
              "STRINGIFY_COLUMN_VALUES": true,
              "STRINGIFY_INDEX_VALUES": false
            },
            "sample_history": [],
            "sampling_time": "2023-08-10T09:19:25.275640",
            "user_variable_name": "df_sql",
            "variable_name": "df_sql"
          }
        }
      },
      "execution_count": null,
      "source": "SELECT * FROM cod;",
      "outputs": []
    },
    {
      "id": "4480844c-329f-408f-9728-4e9f28a81c42",
      "cell_type": "code",
      "metadata": {
        "jupyter": {
          "outputs_hidden": false,
          "source_hidden": false
        },
        "noteable": {
          "cell_type": "code",
          "output_collection_id": "5fd80537-eeb1-4a1d-81bd-3a2eb788cbd1"
        },
        "ExecuteTime": {
          "end_time": "2023-08-10T09:19:35.742244+00:00",
          "start_time": "2023-08-10T09:19:35.581895+00:00"
        }
      },
      "execution_count": null,
      "source": "df_sql.shape",
      "outputs": []
    },
    {
      "id": "c8c09232-5569-4428-94b3-26fbddeaefe5",
      "cell_type": "code",
      "metadata": {
        "jupyter": {
          "outputs_hidden": false,
          "source_hidden": false
        },
        "noteable": {
          "cell_type": "code",
          "output_collection_id": "e2fdbd59-5318-49d0-b876-40cb03cfa676"
        },
        "ExecuteTime": {
          "end_time": "2023-08-10T09:45:06.518057+00:00",
          "start_time": "2023-08-10T09:45:06.358822+00:00"
        }
      },
      "execution_count": null,
      "source": "df_sql.columns.values",
      "outputs": []
    },
    {
      "id": "4d036210-9f4d-4c3c-9e91-06f16a6d504c",
      "cell_type": "code",
      "metadata": {
        "noteable": {
          "cell_type": "code",
          "output_collection_id": "c3396714-e67a-4435-b0f9-19e2d00412e1"
        },
        "ExecuteTime": {
          "end_time": "2023-08-10T09:26:31.185668+00:00",
          "start_time": "2023-08-10T09:26:30.975778+00:00"
        },
        "datalink": {
          "53c47776-cc99-43d5-b7f6-37f3fd5355c9": {
            "applied_filters": [],
            "dataframe_info": {
              "default_index_used": true,
              "orig_num_cols": 2,
              "orig_num_rows": 5,
              "orig_size_bytes": 120,
              "truncated_num_cols": 2,
              "truncated_num_rows": 5,
              "truncated_size_bytes": 120,
              "truncated_string_columns": []
            },
            "display_id": "53c47776-cc99-43d5-b7f6-37f3fd5355c9",
            "dx_settings": {
              "ALLOW_NOTEABLE_ATTRS": true,
              "COLUMN_SAMPLING_METHOD": "outer",
              "DB_LOCATION": ":memory:",
              "DEV_MODE": false,
              "DISPLAY_MAX_COLUMNS": 100,
              "DISPLAY_MAX_ROWS": 50000,
              "DISPLAY_MODE": "simple",
              "ENABLE_ASSIGNMENT": true,
              "ENABLE_DATALINK": true,
              "FLATTEN_COLUMN_VALUES": true,
              "FLATTEN_INDEX_VALUES": false,
              "GENERATE_DEX_METADATA": false,
              "HTML_TABLE_SCHEMA": false,
              "LOG_LEVEL": 30,
              "MAX_RENDER_SIZE_BYTES": 104857600,
              "MAX_STRING_LENGTH": 250,
              "NUM_PAST_SAMPLES_TRACKED": 3,
              "RANDOM_STATE": 12648430,
              "RESET_INDEX_VALUES": false,
              "ROW_SAMPLING_METHOD": "random",
              "SAMPLING_FACTOR": 0.1,
              "SAMPLING_METHOD": "random",
              "STRINGIFY_COLUMN_VALUES": true,
              "STRINGIFY_INDEX_VALUES": false
            },
            "sample_history": [],
            "sampling_time": "2023-08-10T09:26:31.029012",
            "user_variable_name": null,
            "variable_name": "unk_dataframe_12d95931b26d497bad206cde38a99974"
          }
        }
      },
      "execution_count": null,
      "source": "# Create a new variable 'role_category' with text labels for the 'role' variable\nrole_mapping = {1: 'Communicator', 2: 'Coworker', 3: 'Manager'}\ndf_sql['role_category'] = df_sql['role'].map(role_mapping)\ndf_sql[['role', 'role_category']].head()",
      "outputs": []
    },
    {
      "id": "f7f2f03a-f06e-417e-8cf1-b6d77f35bf91",
      "cell_type": "code",
      "metadata": {
        "noteable": {
          "cell_type": "code",
          "output_collection_id": "a021413d-3da9-40c9-aa97-4ca2c2e78ea3"
        },
        "ExecuteTime": {
          "end_time": "2023-08-10T09:35:00.975001+00:00",
          "start_time": "2023-08-10T09:34:59.671171+00:00"
        }
      },
      "execution_count": null,
      "source": "# Create a new variable 'gender_category' with text labels for the 'gender_binary' variable\ngender_mapping = {1: 'Female', 2: 'Male'}\ndf_sql['gender_category'] = df_sql['gender_binary'].map(gender_mapping)\ndf_sql[['gender_binary', 'gender_category']].head()",
      "outputs": []
    },
    {
      "id": "d6aa5004-66d5-478e-bbc4-becd0dab6f6e",
      "cell_type": "code",
      "metadata": {
        "noteable": {
          "cell_type": "code",
          "output_collection_id": "01bb57fa-9776-4487-bf47-9b64f3bb98b3"
        },
        "ExecuteTime": {
          "end_time": "2023-08-10T09:35:42.346883+00:00",
          "start_time": "2023-08-10T09:35:42.142992+00:00"
        },
        "datalink": {
          "987472ac-d853-4b75-b988-69c738e3568d": {
            "applied_filters": [],
            "dataframe_info": {
              "default_index_used": true,
              "orig_num_cols": 2,
              "orig_num_rows": 5,
              "orig_size_bytes": 120,
              "truncated_num_cols": 2,
              "truncated_num_rows": 5,
              "truncated_size_bytes": 120,
              "truncated_string_columns": []
            },
            "display_id": "987472ac-d853-4b75-b988-69c738e3568d",
            "dx_settings": {
              "ALLOW_NOTEABLE_ATTRS": true,
              "COLUMN_SAMPLING_METHOD": "outer",
              "DB_LOCATION": ":memory:",
              "DEV_MODE": false,
              "DISPLAY_MAX_COLUMNS": 100,
              "DISPLAY_MAX_ROWS": 50000,
              "DISPLAY_MODE": "simple",
              "ENABLE_ASSIGNMENT": true,
              "ENABLE_DATALINK": true,
              "FLATTEN_COLUMN_VALUES": true,
              "FLATTEN_INDEX_VALUES": false,
              "GENERATE_DEX_METADATA": false,
              "HTML_TABLE_SCHEMA": false,
              "LOG_LEVEL": 30,
              "MAX_RENDER_SIZE_BYTES": 104857600,
              "MAX_STRING_LENGTH": 250,
              "NUM_PAST_SAMPLES_TRACKED": 3,
              "RANDOM_STATE": 12648430,
              "RESET_INDEX_VALUES": false,
              "ROW_SAMPLING_METHOD": "random",
              "SAMPLING_FACTOR": 0.1,
              "SAMPLING_METHOD": "random",
              "STRINGIFY_COLUMN_VALUES": true,
              "STRINGIFY_INDEX_VALUES": false
            },
            "sample_history": [],
            "sampling_time": "2023-08-10T09:35:42.190596",
            "user_variable_name": null,
            "variable_name": "unk_dataframe_8e00de3f363b4339b2cbc78306e64764"
          }
        }
      },
      "execution_count": null,
      "source": "import numpy as np\n\n# Create 'gender_binary' column from 'gender' by replacing value 3 with NA\ndf_sql['gender_binary'] = df_sql['gender'].replace(3, np.nan)\n\n# Create 'gender_category' column from 'gender_binary'\ndf_sql['gender_category'] = df_sql['gender_binary'].map(gender_mapping)\ndf_sql[['gender_binary', 'gender_category']].head()",
      "outputs": []
    },
    {
      "id": "ac846991-058f-428a-b66f-46e14028d891",
      "cell_type": "code",
      "metadata": {
        "noteable": {
          "cell_type": "code",
          "output_collection_id": "05640880-624c-423f-a126-bb3dbf2d71bc"
        },
        "ExecuteTime": {
          "end_time": "2023-08-10T09:54:09.982635+00:00",
          "start_time": "2023-08-10T09:54:09.770576+00:00"
        },
        "datalink": {
          "dc5a0d02-f7f3-41dd-89b5-248241d5766d": {
            "applied_filters": [],
            "dataframe_info": {
              "default_index_used": true,
              "orig_num_cols": 2,
              "orig_num_rows": 5,
              "orig_size_bytes": 120,
              "truncated_num_cols": 2,
              "truncated_num_rows": 5,
              "truncated_size_bytes": 120,
              "truncated_string_columns": []
            },
            "display_id": "dc5a0d02-f7f3-41dd-89b5-248241d5766d",
            "dx_settings": {
              "ALLOW_NOTEABLE_ATTRS": true,
              "COLUMN_SAMPLING_METHOD": "outer",
              "DB_LOCATION": ":memory:",
              "DEV_MODE": false,
              "DISPLAY_MAX_COLUMNS": 100,
              "DISPLAY_MAX_ROWS": 50000,
              "DISPLAY_MODE": "simple",
              "ENABLE_ASSIGNMENT": true,
              "ENABLE_DATALINK": true,
              "FLATTEN_COLUMN_VALUES": true,
              "FLATTEN_INDEX_VALUES": false,
              "GENERATE_DEX_METADATA": false,
              "HTML_TABLE_SCHEMA": false,
              "LOG_LEVEL": 30,
              "MAX_RENDER_SIZE_BYTES": 104857600,
              "MAX_STRING_LENGTH": 250,
              "NUM_PAST_SAMPLES_TRACKED": 3,
              "RANDOM_STATE": 12648430,
              "RESET_INDEX_VALUES": false,
              "ROW_SAMPLING_METHOD": "random",
              "SAMPLING_FACTOR": 0.1,
              "SAMPLING_METHOD": "random",
              "STRINGIFY_COLUMN_VALUES": true,
              "STRINGIFY_INDEX_VALUES": false
            },
            "sample_history": [],
            "sampling_time": "2023-08-10T09:54:09.826516",
            "user_variable_name": null,
            "variable_name": "unk_dataframe_a32cd788ed904df4965ad72e6df98dbc"
          }
        }
      },
      "execution_count": null,
      "source": "# Create a new variable 'organization_category' with text labels for the 'org_type' variable\norg_type_mapping = {1: 'Public', 2: 'Private'}\ndf_sql['organization_category'] = df_sql['org_type'].map(org_type_mapping)\ndf_sql[['org_type', 'organization_category']].head()",
      "outputs": []
    },
    {
      "id": "4dd9642a-cff1-40ef-9db5-016a32d1b8ea",
      "cell_type": "code",
      "metadata": {
        "noteable": {
          "cell_type": "code",
          "output_collection_id": "e9a76c70-4dbf-4a85-b16b-ed9d2679ddef"
        },
        "ExecuteTime": {
          "end_time": "2023-08-10T09:59:01.894140+00:00",
          "start_time": "2023-08-10T09:59:01.661337+00:00"
        },
        "datalink": {
          "64333ed0-673f-4cac-ad84-a34d864b9e2f": {
            "applied_filters": [],
            "dataframe_info": {
              "default_index_used": true,
              "orig_num_cols": 5,
              "orig_num_rows": 5,
              "orig_size_bytes": 240,
              "truncated_num_cols": 5,
              "truncated_num_rows": 5,
              "truncated_size_bytes": 240,
              "truncated_string_columns": []
            },
            "display_id": "64333ed0-673f-4cac-ad84-a34d864b9e2f",
            "dx_settings": {
              "ALLOW_NOTEABLE_ATTRS": true,
              "COLUMN_SAMPLING_METHOD": "outer",
              "DB_LOCATION": ":memory:",
              "DEV_MODE": false,
              "DISPLAY_MAX_COLUMNS": 100,
              "DISPLAY_MAX_ROWS": 50000,
              "DISPLAY_MODE": "simple",
              "ENABLE_ASSIGNMENT": true,
              "ENABLE_DATALINK": true,
              "FLATTEN_COLUMN_VALUES": true,
              "FLATTEN_INDEX_VALUES": false,
              "GENERATE_DEX_METADATA": false,
              "HTML_TABLE_SCHEMA": false,
              "LOG_LEVEL": 30,
              "MAX_RENDER_SIZE_BYTES": 104857600,
              "MAX_STRING_LENGTH": 250,
              "NUM_PAST_SAMPLES_TRACKED": 3,
              "RANDOM_STATE": 12648430,
              "RESET_INDEX_VALUES": false,
              "ROW_SAMPLING_METHOD": "random",
              "SAMPLING_FACTOR": 0.1,
              "SAMPLING_METHOD": "random",
              "STRINGIFY_COLUMN_VALUES": true,
              "STRINGIFY_INDEX_VALUES": false
            },
            "sample_history": [],
            "sampling_time": "2023-08-10T09:59:01.737099",
            "user_variable_name": null,
            "variable_name": "unk_dataframe_1c8e2fcbcaba478f92148d0141b59ae5"
          }
        }
      },
      "execution_count": null,
      "source": "# Create a new variable 'comment' using the pattern provided\ndf_sql['comment'] = 'I am a ' + (2016 - df_sql['age']).astype(str) + ' year old ' + df_sql['gender_category'] + ' ' + df_sql['role_category'] + ' and I work in a ' + df_sql['organization_category'] + ' organization.'\ndf_sql[['age', 'gender_category', 'role_category', 'organization_category', 'comment']].head()",
      "outputs": []
    },
    {
      "id": "33d999b5-9359-4f65-b3e1-68fe6fc11b19",
      "cell_type": "code",
      "metadata": {
        "noteable": {
          "cell_type": "code",
          "output_collection_id": "0fe67d89-0ae0-4068-ace3-b5c635b46f9e"
        },
        "ExecuteTime": {
          "end_time": "2023-08-10T10:06:46.649053+00:00",
          "start_time": "2023-08-10T10:06:46.489687+00:00"
        }
      },
      "execution_count": null,
      "source": "import random\n\n# Helper function to generate unique natural language sentences\ndef generate_unique_comment(row):\n    templates = [\n        f'As a {row['gender_category']} aged {2016 - row['age']}, I work as a {row['role_category']} in the {row['organization_category']} sector.',\n        f'In the {row['organization_category']} industry, I serve as a {row['role_category']} and I'm a {row['gender_category']} born in {row['age']}.',\n        f'Being a {row['gender_category']} from {row['age']}, my role in the {row['organization_category']} world is {row['role_category']}.',\n        f'I, a {row['gender_category']} born in {row['age']}, proudly represent the {row['role_category']} community in the {row['organization_category']} domain.'\n    ]\n    return random.choice(templates)\n\n# Create 'comment_unique' column\ndf_sql['comment_unique'] = df_sql.apply(generate_unique_comment, axis=1)\ndf_sql[['comment', 'comment_unique']].head()",
      "outputs": []
    },
    {
      "id": "0ec1b76e-1395-47f0-a5a7-719e589885fd",
      "cell_type": "code",
      "metadata": {
        "noteable": {
          "cell_type": "code",
          "output_collection_id": "973a022a-deb9-46bd-865b-28857fb6a9a1"
        },
        "ExecuteTime": {
          "end_time": "2023-08-10T10:07:35.814215+00:00",
          "start_time": "2023-08-10T10:07:35.653966+00:00"
        }
      },
      "execution_count": null,
      "source": "# Corrected helper function to generate unique natural language sentences\ndef generate_unique_comment(row):\n    age = 2016 - row['age']\n    gender = row['gender_category']\n    role = row['role_category']\n    org = row['organization_category']\n    templates = [\n        f'As a {gender} aged {age}, I work as a {role} in the {org} sector.',\n        f'In the {org} industry, I serve as a {role} and I'm a {gender} born in {row['age']}.',\n        f'Being a {gender} from {row['age']}, my role in the {org} world is {role}.',\n        f'I, a {gender} born in {row['age']}, proudly represent the {role} community in the {org} domain.'\n    ]\n    return random.choice(templates)\n\n# Create 'comment_unique' column\ndf_sql['comment_unique'] = df_sql.apply(generate_unique_comment, axis=1)\ndf_sql[['comment', 'comment_unique']].head()",
      "outputs": []
    },
    {
      "id": "5a40ad14-38eb-4d8e-9a47-3777b2574298",
      "cell_type": "code",
      "metadata": {
        "noteable": {
          "cell_type": "code",
          "output_collection_id": "1ade6874-a646-4116-9d75-b229d352ada9"
        },
        "ExecuteTime": {
          "end_time": "2023-08-10T10:08:22.308130+00:00",
          "start_time": "2023-08-10T10:08:22.148286+00:00"
        }
      },
      "execution_count": null,
      "source": "# Corrected helper function to generate unique natural language sentences\ndef generate_unique_comment(row):\n    age = 2016 - row['age']\n    gender = row['gender_category']\n    role = row['role_category']\n    org = row['organization_category']\n    templates = [\n        f'As a {gender} aged {age}, I work as a {role} in the {org} sector.',\n        f'In the {org} industry, I serve as a {role} and I\\'m a {gender} born in {row['age']}.',\n        f'Being a {gender} from {row['age']}, my role in the {org} world is {role}.',\n        f'I, a {gender} born in {row['age']}, proudly represent the {role} community in the {org} domain.'\n    ]\n    return random.choice(templates)\n\n# Create 'comment_unique' column\ndf_sql['comment_unique'] = df_sql.apply(generate_unique_comment, axis=1)\ndf_sql[['comment', 'comment_unique']].head()",
      "outputs": []
    },
    {
      "id": "2de566bb-ffbc-42f7-8109-08be8d1529ff",
      "cell_type": "code",
      "metadata": {
        "noteable": {
          "cell_type": "code",
          "output_collection_id": "1a3fd377-d9d7-456f-8248-616e99043586"
        },
        "ExecuteTime": {
          "end_time": "2023-08-10T10:09:12.093148+00:00",
          "start_time": "2023-08-10T10:09:11.602242+00:00"
        }
      },
      "execution_count": null,
      "source": "# Corrected helper function to generate unique natural language sentences\ndef generate_unique_comment(row):\n    age = 2016 - row['age']\n    gender = row['gender_category']\n    role = row['role_category']\n    org = row['organization_category']\n    templates = [\n        'As a ' + gender + ' aged ' + str(age) + ', I work as a ' + role + ' in the ' + org + ' sector.',\n        'In the ' + org + ' industry, I serve as a ' + role + ' and I\\'m a ' + gender + ' born in ' + str(row['age']) + '.',\n        'Being a ' + gender + ' from ' + str(row['age']) + ', my role in the ' + org + ' world is ' + role + '.',\n        'I, a ' + gender + ' born in ' + str(row['age']) + ', proudly represent the ' + role + ' community in the ' + org + ' domain.'\n    ]\n    return random.choice(templates)\n\n# Create 'comment_unique' column\ndf_sql['comment_unique'] = df_sql.apply(generate_unique_comment, axis=1)\ndf_sql[['comment', 'comment_unique']].head()",
      "outputs": []
    },
    {
      "id": "8ecc1eac-c3c6-4bb6-9771-4ceac1b61e47",
      "cell_type": "code",
      "metadata": {
        "noteable": {
          "cell_type": "code",
          "output_collection_id": "3fa03bb4-f00e-4238-bd8d-60a4a3cc87c2"
        },
        "ExecuteTime": {
          "end_time": "2023-08-10T10:10:02.155486+00:00",
          "start_time": "2023-08-10T10:10:01.870879+00:00"
        }
      },
      "execution_count": null,
      "source": "import random\n\n# Corrected helper function to generate unique natural language sentences\ndef generate_unique_comment(row):\n    age = 2016 - row['age']\n    gender = row['gender_category']\n    role = row['role_category']\n    org = row['organization_category']\n    templates = [\n        'As a ' + gender + ' aged ' + str(age) + ', I work as a ' + role + ' in the ' + org + ' sector.',\n        'In the ' + org + ' industry, I serve as a ' + role + ' and I\\'m a ' + gender + ' born in ' + str(row['age']) + '.',\n        'Being a ' + gender + ' from ' + str(row['age']) + ', my role in the ' + org + ' world is ' + role + '.',\n        'I, a ' + gender + ' born in ' + str(row['age']) + ', proudly represent the ' + role + ' community in the ' + org + ' domain.'\n    ]\n    return random.choice(templates)\n\n# Create 'comment_unique' column\ndf_sql['comment_unique'] = df_sql.apply(generate_unique_comment, axis=1)\ndf_sql[['comment', 'comment_unique']].head()",
      "outputs": []
    },
    {
      "id": "ee704741-a031-48e4-9e80-2fac54c86a7e",
      "cell_type": "code",
      "metadata": {
        "noteable": {
          "cell_type": "code",
          "output_collection_id": "bb20a3a8-881d-42c7-a880-62d0c196a66b"
        },
        "ExecuteTime": {
          "end_time": "2023-08-10T10:10:50.545118+00:00",
          "start_time": "2023-08-10T10:10:50.109493+00:00"
        },
        "datalink": {
          "2d81607d-aaba-4d68-97a5-2f4847b4fc53": {
            "applied_filters": [],
            "dataframe_info": {
              "default_index_used": true,
              "orig_num_cols": 2,
              "orig_num_rows": 5,
              "orig_size_bytes": 120,
              "truncated_num_cols": 2,
              "truncated_num_rows": 5,
              "truncated_size_bytes": 120,
              "truncated_string_columns": []
            },
            "display_id": "2d81607d-aaba-4d68-97a5-2f4847b4fc53",
            "dx_settings": {
              "ALLOW_NOTEABLE_ATTRS": true,
              "COLUMN_SAMPLING_METHOD": "outer",
              "DB_LOCATION": ":memory:",
              "DEV_MODE": false,
              "DISPLAY_MAX_COLUMNS": 100,
              "DISPLAY_MAX_ROWS": 50000,
              "DISPLAY_MODE": "simple",
              "ENABLE_ASSIGNMENT": true,
              "ENABLE_DATALINK": true,
              "FLATTEN_COLUMN_VALUES": true,
              "FLATTEN_INDEX_VALUES": false,
              "GENERATE_DEX_METADATA": false,
              "HTML_TABLE_SCHEMA": false,
              "LOG_LEVEL": 30,
              "MAX_RENDER_SIZE_BYTES": 104857600,
              "MAX_STRING_LENGTH": 250,
              "NUM_PAST_SAMPLES_TRACKED": 3,
              "RANDOM_STATE": 12648430,
              "RESET_INDEX_VALUES": false,
              "ROW_SAMPLING_METHOD": "random",
              "SAMPLING_FACTOR": 0.1,
              "SAMPLING_METHOD": "random",
              "STRINGIFY_COLUMN_VALUES": true,
              "STRINGIFY_INDEX_VALUES": false
            },
            "sample_history": [],
            "sampling_time": "2023-08-10T10:10:50.388188",
            "user_variable_name": null,
            "variable_name": "unk_dataframe_e24dc3a4a70c41b1a9aa1899f4251075"
          }
        }
      },
      "execution_count": null,
      "source": "# Corrected helper function to generate unique natural language sentences\ndef generate_unique_comment(row):\n    age = str(2016 - int(row['age'])) if not pd.isna(row['age']) else 'unknown'\n    gender = str(row['gender_category']) if not pd.isna(row['gender_category']) else 'unknown'\n    role = str(row['role_category']) if not pd.isna(row['role_category']) else 'unknown'\n    org = str(row['organization_category']) if not pd.isna(row['organization_category']) else 'unknown'\n    templates = [\n        'As a ' + gender + ' aged ' + age + ', I work as a ' + role + ' in the ' + org + ' sector.',\n        'In the ' + org + ' industry, I serve as a ' + role + ' and I\\'m a ' + gender + ' born in ' + age + '.',\n        'Being a ' + gender + ' from ' + age + ', my role in the ' + org + ' world is ' + role + '.',\n        'I, a ' + gender + ' born in ' + age + ', proudly represent the ' + role + ' community in the ' + org + ' domain.'\n    ]\n    return random.choice(templates)\n\n# Create 'comment_unique' column\ndf_sql['comment_unique'] = df_sql.apply(generate_unique_comment, axis=1)\ndf_sql[['comment', 'comment_unique']].head()",
      "outputs": []
    },
    {
      "id": "e339d52e-09ce-4c84-b5d7-30245c528d59",
      "cell_type": "code",
      "metadata": {
        "noteable": {
          "cell_type": "code",
          "output_collection_id": "8f57313e-b6d1-4cb9-a081-d50beb74d8d0"
        },
        "ExecuteTime": {
          "end_time": "2023-08-10T10:12:11.671340+00:00",
          "start_time": "2023-08-10T10:12:11.470433+00:00"
        },
        "datalink": {
          "6d71facc-8a86-4fa7-8c24-21dbbb4e317a": {
            "applied_filters": [],
            "dataframe_info": {
              "default_index_used": true,
              "orig_num_cols": 1,
              "orig_num_rows": 5,
              "orig_size_bytes": 80,
              "truncated_num_cols": 1,
              "truncated_num_rows": 5,
              "truncated_size_bytes": 80,
              "truncated_string_columns": []
            },
            "display_id": "6d71facc-8a86-4fa7-8c24-21dbbb4e317a",
            "dx_settings": {
              "ALLOW_NOTEABLE_ATTRS": true,
              "COLUMN_SAMPLING_METHOD": "outer",
              "DB_LOCATION": ":memory:",
              "DEV_MODE": false,
              "DISPLAY_MAX_COLUMNS": 100,
              "DISPLAY_MAX_ROWS": 50000,
              "DISPLAY_MODE": "simple",
              "ENABLE_ASSIGNMENT": true,
              "ENABLE_DATALINK": true,
              "FLATTEN_COLUMN_VALUES": true,
              "FLATTEN_INDEX_VALUES": false,
              "GENERATE_DEX_METADATA": false,
              "HTML_TABLE_SCHEMA": false,
              "LOG_LEVEL": 30,
              "MAX_RENDER_SIZE_BYTES": 104857600,
              "MAX_STRING_LENGTH": 250,
              "NUM_PAST_SAMPLES_TRACKED": 3,
              "RANDOM_STATE": 12648430,
              "RESET_INDEX_VALUES": false,
              "ROW_SAMPLING_METHOD": "random",
              "SAMPLING_FACTOR": 0.1,
              "SAMPLING_METHOD": "random",
              "STRINGIFY_COLUMN_VALUES": true,
              "STRINGIFY_INDEX_VALUES": false
            },
            "sample_history": [],
            "sampling_time": "2023-08-10T10:12:11.515466",
            "user_variable_name": null,
            "variable_name": "unk_dataframe_9c6c7fc64e5744139094286a501c373b"
          }
        }
      },
      "execution_count": null,
      "source": "df_sql['comment_unique'].head()",
      "outputs": []
    },
    {
      "id": "afad995b-eb04-4065-bc3c-e01c130293ff",
      "cell_type": "code",
      "metadata": {
        "noteable": {
          "cell_type": "code",
          "output_collection_id": "f13f1575-6e1a-4291-86b6-3fef3353e6a2"
        },
        "ExecuteTime": {
          "end_time": "2023-08-10T10:18:56.555456+00:00",
          "start_time": "2023-08-10T10:18:56.391428+00:00"
        }
      },
      "execution_count": null,
      "source": "# Helper function to generate sentiment and rephrase the comment based on sentiment\ndef generate_sentiment_and_rephrase(row):\n    sentiments = ['positive', 'neutral', 'negative']\n    sentiment = random.choice(sentiments)\n    if sentiment == 'positive':\n        phrases = [\n            'I am happy to say that ' + row['comment_unique'],\n            'Fortunately, ' + row['comment_unique'],\n            'I am proud that ' + row['comment_unique']\n        ]\n    elif sentiment == 'neutral':\n        phrases = [\n            'It is a fact that ' + row['comment_unique'],\n            'Simply put, ' + row['comment_unique'],\n            'In general, ' + row['comment_unique']\n        ]\n    else:\n        phrases = [\n            'Unfortunately, ' + row['comment_unique'],\n            'I regret to say that ' + row['comment_unique'],\n            'I wish it weren't so, but ' + row['comment_unique']\n        ]\n    return sentiment, random.choice(phrases)\n\n# Apply the function and create new columns 'sentiment' and 'rephrased_comment'\ndf_sql['sentiment'], df_sql['rephrased_comment'] = zip(*df_sql.apply(generate_sentiment_and_rephrase, axis=1))\ndf_sql[['comment_unique', 'sentiment', 'rephrased_comment']].head()",
      "outputs": []
    },
    {
      "id": "4e8144f1-dfd6-4e56-8366-7d9ffaa807a1",
      "cell_type": "code",
      "metadata": {
        "noteable": {
          "cell_type": "code",
          "output_collection_id": "f1164b2b-08f7-4c90-95f3-157421fd6da5"
        },
        "ExecuteTime": {
          "end_time": "2023-08-10T10:19:52.626874+00:00",
          "start_time": "2023-08-10T10:19:52.306327+00:00"
        },
        "datalink": {
          "45acfec6-58d4-4c3b-b7f2-d6d509c7759d": {
            "applied_filters": [],
            "dataframe_info": {
              "default_index_used": true,
              "orig_num_cols": 3,
              "orig_num_rows": 5,
              "orig_size_bytes": 160,
              "truncated_num_cols": 3,
              "truncated_num_rows": 5,
              "truncated_size_bytes": 160,
              "truncated_string_columns": []
            },
            "display_id": "45acfec6-58d4-4c3b-b7f2-d6d509c7759d",
            "dx_settings": {
              "ALLOW_NOTEABLE_ATTRS": true,
              "COLUMN_SAMPLING_METHOD": "outer",
              "DB_LOCATION": ":memory:",
              "DEV_MODE": false,
              "DISPLAY_MAX_COLUMNS": 100,
              "DISPLAY_MAX_ROWS": 50000,
              "DISPLAY_MODE": "simple",
              "ENABLE_ASSIGNMENT": true,
              "ENABLE_DATALINK": true,
              "FLATTEN_COLUMN_VALUES": true,
              "FLATTEN_INDEX_VALUES": false,
              "GENERATE_DEX_METADATA": false,
              "HTML_TABLE_SCHEMA": false,
              "LOG_LEVEL": 30,
              "MAX_RENDER_SIZE_BYTES": 104857600,
              "MAX_STRING_LENGTH": 250,
              "NUM_PAST_SAMPLES_TRACKED": 3,
              "RANDOM_STATE": 12648430,
              "RESET_INDEX_VALUES": false,
              "ROW_SAMPLING_METHOD": "random",
              "SAMPLING_FACTOR": 0.1,
              "SAMPLING_METHOD": "random",
              "STRINGIFY_COLUMN_VALUES": true,
              "STRINGIFY_INDEX_VALUES": false
            },
            "sample_history": [],
            "sampling_time": "2023-08-10T10:19:52.469493",
            "user_variable_name": null,
            "variable_name": "unk_dataframe_71d784480ae24cd69cfb6907a43bf7a4"
          }
        }
      },
      "execution_count": null,
      "source": "# Corrected helper function to generate sentiment and rephrase the comment based on sentiment\ndef generate_sentiment_and_rephrase(row):\n    sentiments = ['positive', 'neutral', 'negative']\n    sentiment = random.choice(sentiments)\n    if sentiment == 'positive':\n        phrases = [\n            'I am happy to say that ' + row['comment_unique'],\n            'Fortunately, ' + row['comment_unique'],\n            'I am proud that ' + row['comment_unique']\n        ]\n    elif sentiment == 'neutral':\n        phrases = [\n            'It is a fact that ' + row['comment_unique'],\n            'Simply put, ' + row['comment_unique'],\n            'In general, ' + row['comment_unique']\n        ]\n    else:  # negative sentiment\n        phrases = [\n            'Unfortunately, ' + row['comment_unique'],\n            'I regret to say that ' + row['comment_unique'],\n            'I wish it weren\\'t so, but ' + row['comment_unique']\n        ]\n    return sentiment, random.choice(phrases)\n\n# Apply the function and create new columns 'sentiment' and 'rephrased_comment'\ndf_sql['sentiment'], df_sql['rephrased_comment'] = zip(*df_sql.apply(generate_sentiment_and_rephrase, axis=1))\ndf_sql[['comment_unique', 'sentiment', 'rephrased_comment']].head()",
      "outputs": []
    },
    {
      "id": "bc2bc446-c1a2-478f-bcb5-d52e190da1fe",
      "cell_type": "code",
      "metadata": {
        "noteable": {
          "cell_type": "code",
          "output_collection_id": "9c56e616-45bb-4d9e-964b-0d5823f4d637"
        },
        "ExecuteTime": {
          "end_time": "2023-08-10T10:23:14.565641+00:00",
          "start_time": "2023-08-10T10:23:14.406740+00:00"
        }
      },
      "execution_count": null,
      "source": "df_sql.columns",
      "outputs": []
    },
    {
      "id": "a079cef0-c182-40bd-ab18-70c7af3626a9",
      "cell_type": "code",
      "metadata": {
        "noteable": {
          "cell_type": "code",
          "output_collection_id": "5c85a35f-747d-4d1a-953b-ce4cafb90830"
        },
        "ExecuteTime": {
          "end_time": "2023-08-10T10:24:56.752570+00:00",
          "start_time": "2023-08-10T10:24:56.270348+00:00"
        }
      },
      "execution_count": null,
      "source": "import matplotlib.pyplot as plt\nimport seaborn as sns\n\n# Set the style of seaborn\nsns.set_style('whitegrid')\n\n# Create a countplot for sentiment distribution\nplt.figure(figsize=(10, 6))\nsns.countplot(data=df_sql, x='sentiment', palette='pastel')\nplt.title('Distribution of Sentiment Values', fontsize=15)\nplt.xlabel('Sentiment', fontsize=12)\nplt.ylabel('Count', fontsize=12)\nplt.show()",
      "outputs": []
    },
    {
      "id": "308760a3-5cd2-4d58-b477-a8a2e9342853",
      "cell_type": "code",
      "metadata": {
        "noteable": {
          "cell_type": "code",
          "output_collection_id": "3be97349-93fb-4e86-b8e5-f8dcb0dd1b45"
        },
        "ExecuteTime": {
          "end_time": "2023-08-10T10:31:36.346218+00:00",
          "start_time": "2023-08-10T10:31:35.172027+00:00"
        }
      },
      "execution_count": null,
      "source": "# Update 'gender_category' for rows where 'gender_binary' is NA\ndf_sql.loc[df_sql['gender_binary'].isna(), 'gender_category'] = 'non-binary'\n\n# Regenerate 'comment' column for these rows\ndf_sql.loc[df_sql['gender_binary'].isna(), 'comment'] = df_sql.apply(lambda row: f'I am a {2016 - row.age} year old {row.gender_category} {row.role_category} and I work in a {row.organization_category} organization', axis=1)\n\n# Regenerate 'comment_unique' and 'rephrased_comment' columns for these rows\ndf_sql.loc[df_sql['gender_binary'].isna(), 'comment_unique'] = df_sql.apply(generate_unique_comment, axis=1)\ndf_sql.loc[df_sql['gender_binary'].isna(), ['sentiment', 'rephrased_comment']] = zip(*df_sql.apply(generate_sentiment_and_rephrase, axis=1))\n\n# Display the updated rows\nupdated_rows = df_sql[df_sql['gender_binary'].isna()]\nupdated_rows[['gender_category', 'comment', 'comment_unique', 'rephrased_comment']]",
      "outputs": []
    },
    {
      "id": "4da9b664-494a-496d-a6ef-a1ae728e6b9f",
      "cell_type": "code",
      "metadata": {
        "noteable": {
          "cell_type": "code",
          "output_collection_id": "8a0df769-4d26-44af-ab6b-b515e183d1be"
        },
        "ExecuteTime": {
          "end_time": "2023-08-10T10:32:21.991378+00:00",
          "start_time": "2023-08-10T10:32:21.759602+00:00"
        },
        "datalink": {
          "fb20f534-a80a-4c24-a2a4-64aaf7db9df2": {
            "applied_filters": [],
            "dataframe_info": {
              "default_index_used": true,
              "orig_num_cols": 4,
              "orig_num_rows": 17,
              "orig_size_bytes": 680,
              "truncated_num_cols": 4,
              "truncated_num_rows": 17,
              "truncated_size_bytes": 680,
              "truncated_string_columns": []
            },
            "display_id": "fb20f534-a80a-4c24-a2a4-64aaf7db9df2",
            "dx_settings": {
              "ALLOW_NOTEABLE_ATTRS": true,
              "COLUMN_SAMPLING_METHOD": "outer",
              "DB_LOCATION": ":memory:",
              "DEV_MODE": false,
              "DISPLAY_MAX_COLUMNS": 100,
              "DISPLAY_MAX_ROWS": 50000,
              "DISPLAY_MODE": "simple",
              "ENABLE_ASSIGNMENT": true,
              "ENABLE_DATALINK": true,
              "FLATTEN_COLUMN_VALUES": true,
              "FLATTEN_INDEX_VALUES": false,
              "GENERATE_DEX_METADATA": false,
              "HTML_TABLE_SCHEMA": false,
              "LOG_LEVEL": 30,
              "MAX_RENDER_SIZE_BYTES": 104857600,
              "MAX_STRING_LENGTH": 250,
              "NUM_PAST_SAMPLES_TRACKED": 3,
              "RANDOM_STATE": 12648430,
              "RESET_INDEX_VALUES": false,
              "ROW_SAMPLING_METHOD": "random",
              "SAMPLING_FACTOR": 0.1,
              "SAMPLING_METHOD": "random",
              "STRINGIFY_COLUMN_VALUES": true,
              "STRINGIFY_INDEX_VALUES": false
            },
            "sample_history": [],
            "sampling_time": "2023-08-10T10:32:21.834305",
            "user_variable_name": null,
            "variable_name": "unk_dataframe_bb0c97926c1241c893d9b09db61c933e"
          }
        }
      },
      "execution_count": null,
      "source": "# Corrected approach to regenerate 'comment', 'comment_unique', and 'rephrased_comment' columns for rows where 'gender_binary' is NA\nmask = df_sql['gender_binary'].isna()\n\n# Regenerate 'comment' column\ndf_sql.loc[mask, 'comment'] = df_sql[mask].apply(lambda row: f'I am a {2016 - row.age} year old {row.gender_category} {row.role_category} and I work in a {row.organization_category} organization', axis=1)\n\n# Regenerate 'comment_unique' column\ndf_sql.loc[mask, 'comment_unique'] = df_sql[mask].apply(generate_unique_comment, axis=1)\n\n# Regenerate 'sentiment' and 'rephrased_comment' columns\nsentiments, rephrased_comments = zip(*df_sql[mask].apply(generate_sentiment_and_rephrase, axis=1))\ndf_sql.loc[mask, 'sentiment'] = sentiments\ndf_sql.loc[mask, 'rephrased_comment'] = rephrased_comments\n\n# Display the updated rows\nupdated_rows = df_sql[mask]\nupdated_rows[['gender_category', 'comment', 'comment_unique', 'rephrased_comment']]",
      "outputs": []
    },
    {
      "id": "0f62cc9d-a555-4aaf-99c0-7849a181b43f",
      "cell_type": "code",
      "metadata": {
        "noteable": {
          "cell_type": "code",
          "output_collection_id": "70bc9535-d1d1-4356-8e83-fe5154a08818"
        },
        "ExecuteTime": {
          "end_time": "2023-08-10T10:40:45.278599+00:00",
          "start_time": "2023-08-10T10:40:43.917465+00:00"
        },
        "datalink": {
          "4ff12e22-ca8c-4c55-8825-e80947d5add1": {
            "applied_filters": [],
            "dataframe_info": {
              "default_index_used": true,
              "orig_num_cols": 1,
              "orig_num_rows": 5,
              "orig_size_bytes": 80,
              "truncated_num_cols": 1,
              "truncated_num_rows": 5,
              "truncated_size_bytes": 80,
              "truncated_string_columns": [
                "profile_presentation"
              ]
            },
            "display_id": "4ff12e22-ca8c-4c55-8825-e80947d5add1",
            "dx_settings": {
              "ALLOW_NOTEABLE_ATTRS": true,
              "COLUMN_SAMPLING_METHOD": "outer",
              "DB_LOCATION": ":memory:",
              "DEV_MODE": false,
              "DISPLAY_MAX_COLUMNS": 100,
              "DISPLAY_MAX_ROWS": 50000,
              "DISPLAY_MODE": "simple",
              "ENABLE_ASSIGNMENT": true,
              "ENABLE_DATALINK": true,
              "FLATTEN_COLUMN_VALUES": true,
              "FLATTEN_INDEX_VALUES": false,
              "GENERATE_DEX_METADATA": false,
              "HTML_TABLE_SCHEMA": false,
              "LOG_LEVEL": 30,
              "MAX_RENDER_SIZE_BYTES": 104857600,
              "MAX_STRING_LENGTH": 250,
              "NUM_PAST_SAMPLES_TRACKED": 3,
              "RANDOM_STATE": 12648430,
              "RESET_INDEX_VALUES": false,
              "ROW_SAMPLING_METHOD": "random",
              "SAMPLING_FACTOR": 0.1,
              "SAMPLING_METHOD": "random",
              "STRINGIFY_COLUMN_VALUES": true,
              "STRINGIFY_INDEX_VALUES": false
            },
            "sample_history": [],
            "sampling_time": "2023-08-10T10:40:45.121702",
            "user_variable_name": null,
            "variable_name": "unk_dataframe_74a60ebe204a4189b8ba24abc8856f7f"
          }
        }
      },
      "execution_count": null,
      "source": "import textwrap\n\ndef generate_profile_presentation(comment):\n    # List of possible additional sentences to make the profile sound more individual\n    additional_sentences = [\n        'I love to explore new horizons.',\n        'In my free time, I enjoy reading and hiking.',\n        'I believe in continuous learning and self-improvement.',\n        'Traveling and meeting new people is my passion.',\n        'I am an avid coffee lover and a bookworm.',\n        'Nature and music are my two biggest inspirations.',\n        'I am always up for a new adventure.',\n        'Helping others and giving back to the community is important to me.',\n        'I am a firm believer in the power of positivity.',\n        'Creativity and innovation drive me.'\n    ]\n    # Start with the rephrased comment\n    profile = comment + ' '\n    # Keep adding sentences until we reach close to 500 characters\n    while len(profile) < 500:\n        profile += random.choice(additional_sentences) + ' '\n    # Trim the profile to exactly 500 characters and return\n    return textwrap.shorten(profile, width=500, placeholder='...')\n\n# Apply the function to generate profile presentations\ndf_sql['profile_presentation'] = df_sql['rephrased_comment'].apply(generate_profile_presentation)\n\n# Display the first few generated profile presentations\ndf_sql['profile_presentation'].head()",
      "outputs": []
    },
    {
      "id": "c1330d47-936e-4537-994e-e970d614a314",
      "cell_type": "code",
      "metadata": {
        "noteable": {
          "cell_type": "code",
          "output_collection_id": "3f5f4939-38cd-4c4e-b638-79179f017ca0"
        },
        "ExecuteTime": {
          "end_time": "2023-08-10T10:44:13.933556+00:00",
          "start_time": "2023-08-10T10:44:13.670657+00:00"
        }
      },
      "execution_count": null,
      "source": "# Save the dataframe as a tab separated text file\ndf_sql.to_csv('cod_sentiment.tsv', sep='\\t', index=False)",
      "outputs": []
    },
    {
      "id": "cb659685-1b55-4f6d-bca2-72fb13b712e4",
      "cell_type": "code",
      "metadata": {
        "noteable": {
          "cell_type": "code",
          "output_collection_id": "7ef2898a-bb25-4393-8e6d-02ff813221ac"
        },
        "ExecuteTime": {
          "end_time": "2023-08-10T10:55:20.693253+00:00",
          "start_time": "2023-08-10T10:55:20.472727+00:00"
        },
        "datalink": {
          "c9c1291a-953a-4062-98e0-87ea64c0dd80": {
            "applied_filters": [],
            "dataframe_info": {
              "default_index_used": true,
              "orig_num_cols": 1,
              "orig_num_rows": 5,
              "orig_size_bytes": 80,
              "truncated_num_cols": 1,
              "truncated_num_rows": 5,
              "truncated_size_bytes": 80,
              "truncated_string_columns": [
                "profile_presentation"
              ]
            },
            "display_id": "c9c1291a-953a-4062-98e0-87ea64c0dd80",
            "dx_settings": {
              "ALLOW_NOTEABLE_ATTRS": true,
              "COLUMN_SAMPLING_METHOD": "outer",
              "DB_LOCATION": ":memory:",
              "DEV_MODE": false,
              "DISPLAY_MAX_COLUMNS": 100,
              "DISPLAY_MAX_ROWS": 50000,
              "DISPLAY_MODE": "simple",
              "ENABLE_ASSIGNMENT": true,
              "ENABLE_DATALINK": true,
              "FLATTEN_COLUMN_VALUES": true,
              "FLATTEN_INDEX_VALUES": false,
              "GENERATE_DEX_METADATA": false,
              "HTML_TABLE_SCHEMA": false,
              "LOG_LEVEL": 30,
              "MAX_RENDER_SIZE_BYTES": 104857600,
              "MAX_STRING_LENGTH": 250,
              "NUM_PAST_SAMPLES_TRACKED": 3,
              "RANDOM_STATE": 12648430,
              "RESET_INDEX_VALUES": false,
              "ROW_SAMPLING_METHOD": "random",
              "SAMPLING_FACTOR": 0.1,
              "SAMPLING_METHOD": "random",
              "STRINGIFY_COLUMN_VALUES": true,
              "STRINGIFY_INDEX_VALUES": false
            },
            "sample_history": [],
            "sampling_time": "2023-08-10T10:55:20.535974",
            "user_variable_name": null,
            "variable_name": "unk_dataframe_ce787d72630a4d5c9fcc0db91266584f"
          }
        }
      },
      "execution_count": null,
      "source": "# Display the first few 'profile_presentation' where 'gender_category' is 'non-binary'\nnon_binary_profiles = df_sql[df_sql['gender_category'] == 'non-binary']['profile_presentation']\nnon_binary_profiles.head()",
      "outputs": []
    }
  ]
}