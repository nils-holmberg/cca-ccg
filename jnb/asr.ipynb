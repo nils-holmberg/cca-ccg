{
  "nbformat": 4,
  "nbformat_minor": 5,
  "metadata": {
    "noteable-chatgpt": {
      "create_notebook": {
        "openai_conversation_id": "e19a0856-d3b4-54b6-bdc2-01053b99a2c2",
        "openai_ephemeral_user_id": "d3846df0-f8c4-59ed-9a63-7178ba7b3db3",
        "openai_subdivision1_iso_code": "SE-M"
      }
    },
    "kernel_info": {
      "name": "python3"
    },
    "noteable": {
      "last_transaction_id": "27216ca9-f2bd-444f-b622-950c24ec367d"
    },
    "kernelspec": {
      "display_name": "Python 3.9",
      "language": "python",
      "name": "python3"
    },
    "selected_hardware_size": "small"
  },
  "cells": [
    {
      "id": "9afbae7c-e78c-4d78-ab2a-94fa9a4c42a1",
      "cell_type": "code",
      "metadata": {
        "noteable": {
          "cell_type": "code",
          "output_collection_id": "3c1247d9-ef6e-40de-9b01-a78b227ad449"
        },
        "ExecuteTime": {
          "end_time": "2023-08-20T12:03:46.452715+00:00",
          "start_time": "2023-08-20T12:01:48.545814+00:00"
        }
      },
      "execution_count": null,
      "source": "!pip install -q git+https://github.com/openai/whisper.git",
      "outputs": []
    },
    {
      "id": "37da3764-3ba4-42be-a32e-07eb87164eae",
      "cell_type": "code",
      "metadata": {
        "noteable": {
          "cell_type": "code",
          "output_collection_id": "a9b6d6a8-9fb8-4136-95ff-17e1306c1600"
        },
        "ExecuteTime": {
          "end_time": "2023-08-20T12:04:40.182857+00:00",
          "start_time": "2023-08-20T12:04:30.584566+00:00"
        }
      },
      "execution_count": null,
      "source": "import whisper\n\n# Load the 'base' model using the provided code\nmodel = whisper.load_model(\"base\")\n",
      "outputs": []
    },
    {
      "id": "158f1e5d-1565-46d0-995a-e775a5a8d68c",
      "cell_type": "code",
      "metadata": {
        "jupyter": {
          "outputs_hidden": false,
          "source_hidden": false
        },
        "noteable": {
          "cell_type": "code"
        }
      },
      "execution_count": null,
      "source": "# Transcribe the audio\naudio_path = '../res/en-clip.wav'\ntranscription = model.transcribe(audio_path)\ntranscription",
      "outputs": []
    },
    {
      "id": "4b2fc5c3-57d6-4956-bfae-eed41c53c96c",
      "cell_type": "code",
      "metadata": {
        "noteable": {
          "cell_type": "code",
          "output_collection_id": "4180d021-8e5a-4b9d-9570-ce2e42e54447"
        },
        "ExecuteTime": {
          "end_time": "2023-08-18T12:06:17.062099+00:00",
          "start_time": "2023-08-18T12:06:16.902282+00:00"
        }
      },
      "execution_count": null,
      "source": "# Checking available pre-trained models in the whisper package\nwhisper.available_models()",
      "outputs": []
    },
    {
      "id": "88444aa8-2a5f-4142-90f1-5ec18608ba7b",
      "cell_type": "code",
      "metadata": {
        "noteable": {
          "cell_type": "code",
          "output_collection_id": "49e21afb-3c3e-473d-84ae-5be43007cd94"
        },
        "ExecuteTime": {
          "end_time": "2023-08-18T12:06:43.033422+00:00",
          "start_time": "2023-08-18T12:06:42.803605+00:00"
        }
      },
      "execution_count": null,
      "source": "# Load the 'base.en' model from the available models\nmodel = whisper.Whisper('base.en')\n\n# Transcribe the audio\ntranscription = model.transcribe(audio_path)\ntranscription",
      "outputs": []
    },
    {
      "id": "9139f33f-e680-4887-8d29-10d359f25acf",
      "cell_type": "code",
      "metadata": {
        "noteable": {
          "cell_type": "code",
          "output_collection_id": "1cb51d23-929b-4827-a814-1000c95fda78"
        },
        "ExecuteTime": {
          "end_time": "2023-08-18T12:11:55.872643+00:00",
          "start_time": "2023-08-18T12:11:54.920430+00:00"
        }
      },
      "execution_count": null,
      "source": "# Transcribe the English audio file in the 'res' folder using the loaded 'base' model\naudio_path = 'res/en-clip.wav'\ntranscription = model.transcribe(audio_path)\ntranscription",
      "outputs": []
    },
    {
      "id": "1f858d26-2b7f-42e8-bc05-35f4fff8b7a7",
      "cell_type": "code",
      "metadata": {
        "noteable": {
          "cell_type": "code",
          "output_collection_id": "4da77b43-eb0b-4071-8e15-ebe01b639dd2"
        },
        "ExecuteTime": {
          "end_time": "2023-08-18T12:12:34.620070+00:00",
          "start_time": "2023-08-18T12:12:34.237835+00:00"
        }
      },
      "execution_count": null,
      "source": "# Transcribe the English audio file using the loaded 'base' model\naudio_path = './res/en-clip.wav'\ntranscription = model.transcribe(audio_path)\ntranscription",
      "outputs": []
    },
    {
      "id": "12cf1c65-8954-4c63-9739-b431734d7ed5",
      "cell_type": "code",
      "metadata": {
        "noteable": {
          "cell_type": "code",
          "output_collection_id": "089391e7-9ab1-4aa4-b0b2-01762caa98c0"
        },
        "ExecuteTime": {
          "end_time": "2023-08-18T12:13:01.174683+00:00",
          "start_time": "2023-08-18T12:13:00.993083+00:00"
        }
      },
      "execution_count": null,
      "source": "import os\n\n# Verify the current working directory and list files in 'res' folder\ncurrent_directory = os.getcwd()\nres_files = os.listdir('./res')\ncurrent_directory, res_files",
      "outputs": []
    },
    {
      "id": "1c2d0aa5-634a-47db-a3a9-66a782a2c688",
      "cell_type": "code",
      "metadata": {
        "noteable": {
          "cell_type": "code",
          "output_collection_id": "f6421816-122c-481d-a78f-98aa1e5a25ad"
        },
        "ExecuteTime": {
          "end_time": "2023-08-18T12:13:25.272614+00:00",
          "start_time": "2023-08-18T12:13:25.036489+00:00"
        }
      },
      "execution_count": null,
      "source": "import IPython.display as ipd\n\n# Attempt to load and display the audio file to verify its accessibility\nipd.Audio('res/en-clip.wav')",
      "outputs": []
    }
  ]
}