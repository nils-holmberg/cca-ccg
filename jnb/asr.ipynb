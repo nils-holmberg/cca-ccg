{
  "nbformat": 4,
  "nbformat_minor": 5,
  "metadata": {
    "noteable-chatgpt": {
      "create_notebook": {
        "openai_conversation_id": "e19a0856-d3b4-54b6-bdc2-01053b99a2c2",
        "openai_ephemeral_user_id": "d3846df0-f8c4-59ed-9a63-7178ba7b3db3",
        "openai_subdivision1_iso_code": "SE-M"
      }
    },
    "kernel_info": {
      "name": "python3"
    },
    "noteable": {
      "last_transaction_id": "e9dae8c8-74c1-4932-ba28-a5f7f0500347"
    },
    "kernelspec": {
      "display_name": "Python 3.9",
      "language": "python",
      "name": "python3"
    },
    "selected_hardware_size": "small"
  },
  "cells": [
    {
      "id": "9afbae7c-e78c-4d78-ab2a-94fa9a4c42a1",
      "cell_type": "code",
      "metadata": {
        "noteable": {
          "cell_type": "code",
          "output_collection_id": "3c1247d9-ef6e-40de-9b01-a78b227ad449"
        },
        "ExecuteTime": {
          "end_time": "2023-08-20T12:03:46.452715+00:00",
          "start_time": "2023-08-20T12:01:48.545814+00:00"
        }
      },
      "execution_count": null,
      "source": "!pip install -q git+https://github.com/openai/whisper.git",
      "outputs": []
    },
    {
      "id": "37da3764-3ba4-42be-a32e-07eb87164eae",
      "cell_type": "code",
      "metadata": {
        "noteable": {
          "cell_type": "code",
          "output_collection_id": "a9b6d6a8-9fb8-4136-95ff-17e1306c1600"
        },
        "ExecuteTime": {
          "end_time": "2023-08-20T12:04:40.182857+00:00",
          "start_time": "2023-08-20T12:04:30.584566+00:00"
        }
      },
      "execution_count": null,
      "source": "import whisper\n\n# Load the 'base' model using the provided code\nmodel = whisper.load_model(\"base\")\n",
      "outputs": []
    },
    {
      "id": "4b2fc5c3-57d6-4956-bfae-eed41c53c96c",
      "cell_type": "code",
      "metadata": {
        "noteable": {
          "cell_type": "code",
          "output_collection_id": "910c4ada-62df-4396-a4bb-c26928f4840c"
        },
        "ExecuteTime": {
          "end_time": "2023-08-20T12:05:19.072096+00:00",
          "start_time": "2023-08-20T12:05:18.910846+00:00"
        }
      },
      "execution_count": null,
      "source": "# Checking available pre-trained models in the whisper package\nwhisper.available_models()",
      "outputs": []
    },
    {
      "id": "158f1e5d-1565-46d0-995a-e775a5a8d68c",
      "cell_type": "code",
      "metadata": {
        "jupyter": {
          "outputs_hidden": false,
          "source_hidden": false
        },
        "noteable": {
          "cell_type": "code",
          "output_collection_id": "4b89a681-940a-4c83-951c-248961063a02"
        },
        "ExecuteTime": {
          "end_time": "2023-08-20T12:06:45.280724+00:00",
          "start_time": "2023-08-20T12:05:33.697659+00:00"
        }
      },
      "execution_count": null,
      "source": "# Transcribe the audio\naudio_path = '../res/en-clip.wav'\ntranscription = model.transcribe(audio_path)\ntranscription",
      "outputs": []
    }
  ]
}