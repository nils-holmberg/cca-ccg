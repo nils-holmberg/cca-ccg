{
  "nbformat": 4,
  "nbformat_minor": 5,
  "metadata": {
    "noteable-chatgpt": {
      "create_notebook": {
        "openai_conversation_id": "0fa2d118-f158-5666-9a41-9a69584e8a19",
        "openai_ephemeral_user_id": "a8083c3c-ec00-56b4-9183-4432a0b27547",
        "openai_subdivision1_iso_code": "SE-M"
      }
    },
    "kernel_info": {
      "name": "python3"
    },
    "noteable": {
      "last_transaction_id": "da8c1d75-60af-4111-915c-63e73d6b139b"
    },
    "kernelspec": {
      "display_name": "Python 3.9",
      "language": "python",
      "name": "python3"
    },
    "selected_hardware_size": "small"
  },
  "cells": [
    {
      "id": "c7a06f96-bfca-42ab-8456-87bd82cb49c9",
      "cell_type": "code",
      "metadata": {
        "jupyter": {
          "outputs_hidden": false,
          "source_hidden": false
        },
        "noteable": {
          "cell_type": "code",
          "output_collection_id": "949174b0-b293-4fe8-868f-e6be3d8f35fc"
        },
        "ExecuteTime": {
          "end_time": "2023-08-06T14:36:13.616271+00:00",
          "start_time": "2023-08-06T14:35:35.400960+00:00"
        }
      },
      "execution_count": null,
      "source": "!pip install -q tensorflow",
      "outputs": []
    },
    {
      "id": "02a863da-6552-44c5-b5d5-686343e28aa0",
      "cell_type": "code",
      "metadata": {
        "noteable": {
          "cell_type": "code",
          "output_collection_id": "3237b994-76de-46aa-b46e-4010b63bc712"
        },
        "ExecuteTime": {
          "end_time": "2023-08-06T14:33:24.123008+00:00",
          "start_time": "2023-08-06T14:33:16.087708+00:00"
        }
      },
      "execution_count": null,
      "source": "!pip install -q opencv-python\nimport cv2\nimport matplotlib.pyplot as plt\n\n# Read the image using OpenCV\nimage_path = '04Ge3YMUnWc.mp4-00049.jpg'\nimage = cv2.imread(image_path)\nimage_rgb = cv2.cvtColor(image, cv2.COLOR_BGR2RGB)\n\n# Display the image using matplotlib\nplt.imshow(image_rgb)\nplt.axis('off')\nplt.show()",
      "outputs": []
    },
    {
      "id": "64c31b18-7048-45ad-a57a-fa8dd134d7d4",
      "cell_type": "code",
      "metadata": {
        "noteable": {
          "cell_type": "code",
          "output_collection_id": "d73ff507-b435-4e84-8cc5-30ec9d930cfa"
        },
        "ExecuteTime": {
          "end_time": "2023-08-06T14:34:00.821388+00:00",
          "start_time": "2023-08-06T14:33:24.434655+00:00"
        }
      },
      "execution_count": null,
      "source": "!pip install -q yolov4\nfrom yolov4.tf import YOLOv4\n\nyolo = YOLOv4()\nyolo.classes = \"coco.names\"\nyolo.make_model()\nyolo.load_weights(\"yolov4.weights\", weights_type=\"yolo\")\n\n# Perform object detection\nbboxes = yolo.predict(image_rgb)\n\n# Draw bounding boxes on the image\nfor bbox in bboxes:\n    x, y, w, h, class_id, score = bbox\n    x1, y1, x2, y2 = int(x), int(y), int(x + w), int(y + h)\n    cv2.rectangle(image_rgb, (x1, y1), (x2, y2), (255, 0, 0), 2)\n    cv2.putText(image_rgb, f'{yolo.classes[class_id]}: {score:.2f}',\n                (x1, y1 - 10), cv2.FONT_HERSHEY_SIMPLEX, 0.5, (255, 0, 0), 2)\n\n# Display the image with bounding boxes and labels\nplt.imshow(image_rgb)\nplt.axis('off')\nplt.show()",
      "outputs": []
    }
  ]
}