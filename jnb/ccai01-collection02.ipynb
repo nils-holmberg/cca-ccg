{
  "nbformat": 4,
  "nbformat_minor": 5,
  "metadata": {
    "kernel_info": {
      "name": "python3"
    },
    "noteable": {
      "last_transaction_id": "68420191-0973-43c6-88f3-7ef40ac806bf"
    },
    "kernelspec": {
      "display_name": "Python 3.9",
      "language": "python",
      "name": "python3"
    },
    "selected_hardware_size": "small"
  },
  "cells": [
    {
      "id": "ab3a45a9",
      "cell_type": "code",
      "metadata": {},
      "execution_count": null,
      "source": "",
      "outputs": []
    },
    {
      "id": "7cc29be7-f36e-4ee1-bafa-0bcbf4a20c79",
      "cell_type": "code",
      "metadata": {
        "noteable": {
          "cell_type": "code",
          "output_collection_id": "a9b8525f-5996-4d56-9d51-0a6251950703"
        },
        "ExecuteTime": {
          "end_time": "2023-08-20T12:38:50.071370+00:00",
          "start_time": "2023-08-20T12:38:43.237498+00:00"
        }
      },
      "execution_count": null,
      "source": "!pip install -q selenium",
      "outputs": []
    },
    {
      "id": "50a47841-cfb0-49b5-8d41-d242c655ffa0",
      "cell_type": "code",
      "metadata": {
        "noteable": {
          "cell_type": "code",
          "output_collection_id": "47495759-5ad1-4983-b3f8-f25f44b7cc8e"
        },
        "ExecuteTime": {
          "end_time": "2023-08-20T12:39:11.766971+00:00",
          "start_time": "2023-08-20T12:39:09.889678+00:00"
        }
      },
      "execution_count": null,
      "source": "!apt-get update -q\n!apt-get install -q chromium-chromedriver\n!cp /usr/lib/chromium-browser/chromedriver /usr/bin\nimport sys\nsys.path.insert(0,'/usr/lib/chromium-browser/chromedriver')",
      "outputs": []
    }
  ]
}